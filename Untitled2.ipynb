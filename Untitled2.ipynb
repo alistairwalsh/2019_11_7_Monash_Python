{
 "cells": [
  {
   "cell_type": "code",
   "execution_count": null,
   "metadata": {},
   "outputs": [],
   "source": []
  },
  {
   "cell_type": "code",
   "execution_count": 1,
   "metadata": {},
   "outputs": [
    {
     "name": "stdout",
     "output_type": "stream",
     "text": [
      "I'm going to think of a number between 1 and 100\n"
     ]
    }
   ],
   "source": [
    "print(\"I'm going to think of a number between 1 and 100\")"
   ]
  },
  {
   "cell_type": "code",
   "execution_count": 2,
   "metadata": {},
   "outputs": [],
   "source": [
    "from random import randint"
   ]
  },
  {
   "cell_type": "code",
   "execution_count": 12,
   "metadata": {},
   "outputs": [],
   "source": [
    "answer = randint(1,100)"
   ]
  },
  {
   "cell_type": "code",
   "execution_count": 22,
   "metadata": {},
   "outputs": [
    {
     "name": "stdout",
     "output_type": "stream",
     "text": [
      "What is your guess? 42\n"
     ]
    }
   ],
   "source": [
    "guess = int(input('What is your guess? '))"
   ]
  },
  {
   "cell_type": "code",
   "execution_count": 23,
   "metadata": {},
   "outputs": [
    {
     "data": {
      "text/plain": [
       "int"
      ]
     },
     "execution_count": 23,
     "metadata": {},
     "output_type": "execute_result"
    }
   ],
   "source": [
    "type(guess)"
   ]
  },
  {
   "cell_type": "code",
   "execution_count": 24,
   "metadata": {},
   "outputs": [
    {
     "data": {
      "text/plain": [
       "False"
      ]
     },
     "execution_count": 24,
     "metadata": {},
     "output_type": "execute_result"
    }
   ],
   "source": [
    "answer == guess"
   ]
  },
  {
   "cell_type": "code",
   "execution_count": 25,
   "metadata": {},
   "outputs": [
    {
     "data": {
      "text/plain": [
       "False"
      ]
     },
     "execution_count": 25,
     "metadata": {},
     "output_type": "execute_result"
    }
   ],
   "source": [
    "answer > guess"
   ]
  },
  {
   "cell_type": "code",
   "execution_count": 26,
   "metadata": {},
   "outputs": [
    {
     "data": {
      "text/plain": [
       "True"
      ]
     },
     "execution_count": 26,
     "metadata": {},
     "output_type": "execute_result"
    }
   ],
   "source": [
    "answer < guess"
   ]
  },
  {
   "cell_type": "code",
   "execution_count": 31,
   "metadata": {},
   "outputs": [],
   "source": [
    "my_list = [1, 22, 'red', 3.78766, [22,33,44]]"
   ]
  },
  {
   "cell_type": "code",
   "execution_count": 33,
   "metadata": {},
   "outputs": [
    {
     "data": {
      "text/plain": [
       "5"
      ]
     },
     "execution_count": 33,
     "metadata": {},
     "output_type": "execute_result"
    }
   ],
   "source": [
    "len(my_list)"
   ]
  },
  {
   "cell_type": "code",
   "execution_count": 42,
   "metadata": {},
   "outputs": [
    {
     "data": {
      "text/plain": [
       "[1, 'red']"
      ]
     },
     "execution_count": 42,
     "metadata": {},
     "output_type": "execute_result"
    }
   ],
   "source": [
    "my_list[0:4:2]"
   ]
  },
  {
   "cell_type": "code",
   "execution_count": 45,
   "metadata": {},
   "outputs": [
    {
     "name": "stdout",
     "output_type": "stream",
     "text": [
      "0 is even\n",
      "1  is odd\n",
      "2 is even\n",
      "3 is divisible by 3\n",
      "4 is even\n",
      "5  is odd\n",
      "6 is even\n",
      "7  is odd\n",
      "8 is even\n",
      "9 is divisible by 3\n"
     ]
    }
   ],
   "source": [
    "for i in range(10):\n",
    "    if i % 2 == 0:\n",
    "        print(i, 'is even')\n",
    "    elif i % 3 == 0:\n",
    "        print(i, 'is divisible by 3')\n",
    "    else:\n",
    "        print(i,' is odd')"
   ]
  },
  {
   "cell_type": "code",
   "execution_count": 46,
   "metadata": {},
   "outputs": [
    {
     "name": "stdout",
     "output_type": "stream",
     "text": [
      "hello\n",
      "python\n"
     ]
    }
   ],
   "source": [
    "game_on = True\n",
    "\n",
    "while game_on:\n",
    "    \n",
    "    print('hello')\n",
    "    print('python')\n",
    "    game_on = False"
   ]
  },
  {
   "cell_type": "code",
   "execution_count": 47,
   "metadata": {},
   "outputs": [
    {
     "name": "stdout",
     "output_type": "stream",
     "text": [
      "loop 0\n",
      "loop 1\n",
      "loop 2\n",
      "loop 3\n",
      "loop 4\n",
      "loop 5\n",
      "loop 6\n",
      "loop 7\n",
      "loop 8\n",
      "loop 9\n"
     ]
    }
   ],
   "source": [
    "count = 0\n",
    "\n",
    "while count < 10:\n",
    "    print('loop' , count)\n",
    "    count += 1"
   ]
  },
  {
   "cell_type": "code",
   "execution_count": 56,
   "metadata": {},
   "outputs": [
    {
     "name": "stdout",
     "output_type": "stream",
     "text": [
      "I'm going to think of a number between 1 and 100\n",
      "8\n",
      "What is your guess? 50\n",
      "The number is lower than that\n",
      "The number is between 1 and 50\n",
      "What is your guess? 7\n",
      "The number is higher than that\n",
      "The number is between 7 and 50\n",
      "What is your guess? 30\n",
      "The number is lower than that\n",
      "The number is between 7 and 30\n",
      "What is your guess? 8\n",
      "**YOU WIN!!**\n"
     ]
    }
   ],
   "source": [
    "from random import randint\n",
    "\n",
    "def get_boundaries(past_guesses, answer):\n",
    "    '''\n",
    "    Take a list of past guesses, and the answer value\n",
    "    sorts them and returns the lower and upper boundary\n",
    "    '''\n",
    "    past_guesses.sort()\n",
    "    idx = past_guesses.index(answer)\n",
    "    lower,upper = past_guesses[idx - 1], past_guesses[idx + 1]\n",
    "    if lower == 0:\n",
    "        lower = 1\n",
    "    if upper == 101:\n",
    "        upper =100\n",
    "    return lower, upper\n",
    "\n",
    "print(\"I'm going to think of a number between 1 and 100\")\n",
    "\n",
    "answer = randint(1,100)\n",
    "\n",
    "past_guesses = [0, 101, answer]\n",
    "\n",
    "print(answer)\n",
    "\n",
    "game_on = True\n",
    "\n",
    "while game_on:\n",
    "    guess = int(input('What is your guess? '))\n",
    "    past_guesses.append(guess)\n",
    "    \n",
    "    lower, upper = get_boundaries(past_guesses, answer)\n",
    "    \n",
    "    if answer == guess:\n",
    "        print('**YOU WIN!!**')\n",
    "        game_on = False\n",
    "        \n",
    "    elif answer > guess:\n",
    "        print('The number is higher than that')\n",
    "        print(f'The number is between {lower} and {upper}')\n",
    "    else:\n",
    "        print('The number is lower than that')\n",
    "        print(f'The number is between {lower} and {upper}')\n",
    "    "
   ]
  },
  {
   "cell_type": "code",
   "execution_count": 51,
   "metadata": {},
   "outputs": [],
   "source": [
    "def get_boundaries(past_guesses, answer):\n",
    "    '''\n",
    "    Take a list of past guesses, and the answer value\n",
    "    sorts them and returns the lower and upper boundary\n",
    "    '''\n",
    "    past_guesses.sort()\n",
    "    idx = past_guesses.index(answer)\n",
    "    return past_guesses[idx - 1], past_guesses[idx + 1]\n",
    "    "
   ]
  },
  {
   "cell_type": "code",
   "execution_count": 52,
   "metadata": {},
   "outputs": [],
   "source": [
    "answer = 74\n",
    "past_guesses = [1,100, answer, 50, 75]"
   ]
  },
  {
   "cell_type": "code",
   "execution_count": 53,
   "metadata": {},
   "outputs": [],
   "source": [
    "lower, upper = get_boundaries(past_guesses, answer)"
   ]
  },
  {
   "cell_type": "code",
   "execution_count": 54,
   "metadata": {},
   "outputs": [
    {
     "data": {
      "text/plain": [
       "50"
      ]
     },
     "execution_count": 54,
     "metadata": {},
     "output_type": "execute_result"
    }
   ],
   "source": [
    "lower"
   ]
  },
  {
   "cell_type": "code",
   "execution_count": 55,
   "metadata": {},
   "outputs": [
    {
     "data": {
      "text/plain": [
       "75"
      ]
     },
     "execution_count": 55,
     "metadata": {},
     "output_type": "execute_result"
    }
   ],
   "source": [
    "upper"
   ]
  },
  {
   "cell_type": "markdown",
   "metadata": {},
   "source": [
    "Write a function that adds two numbers, a and b, together and prints the result\n",
    "\n",
    "Write the same function that returns the result\n",
    "\n",
    "write a function to calculate pay.\n",
    "- ask for hours, use 48 hrs\n",
    "- use pay rate of $10.50 an hour\n",
    "- anything over 38 hrs is time * 1.5"
   ]
  },
  {
   "cell_type": "code",
   "execution_count": 61,
   "metadata": {},
   "outputs": [],
   "source": [
    "def useless_function():\n",
    "    '''\n",
    "    This function takes no input, does nothing and returns nothing\n",
    "    '''\n",
    "    pass\n",
    "    "
   ]
  },
  {
   "cell_type": "code",
   "execution_count": 70,
   "metadata": {},
   "outputs": [],
   "source": [
    "def add_two(a,b):\n",
    "    '''\n",
    "    takes two numbers, a and b, adds them together\n",
    "    and prints the result\n",
    "    ''' \n",
    "    return a + b\n",
    "    "
   ]
  },
  {
   "cell_type": "code",
   "execution_count": 72,
   "metadata": {},
   "outputs": [],
   "source": [
    "answer = add_two(-1,7)"
   ]
  },
  {
   "cell_type": "code",
   "execution_count": 73,
   "metadata": {},
   "outputs": [
    {
     "data": {
      "text/plain": [
       "6"
      ]
     },
     "execution_count": 73,
     "metadata": {},
     "output_type": "execute_result"
    }
   ],
   "source": [
    "answer"
   ]
  },
  {
   "cell_type": "code",
   "execution_count": 82,
   "metadata": {},
   "outputs": [],
   "source": [
    "def calculate_pay(hours = 38, rate = 10.5):\n",
    "    '''\n",
    "    Takes hours and pay rate,\n",
    "    multiplies them and returns the result\n",
    "    '''\n",
    "    if hours > 38:\n",
    "        pay = 38 * rate + (hours - 38)* (rate*1.5)\n",
    "    else:\n",
    "        pay = hours * rate\n",
    "    return pay"
   ]
  },
  {
   "cell_type": "code",
   "execution_count": 79,
   "metadata": {},
   "outputs": [
    {
     "data": {
      "text/plain": [
       "1900"
      ]
     },
     "execution_count": 79,
     "metadata": {},
     "output_type": "execute_result"
    }
   ],
   "source": [
    "calculate_pay(rate = 50)"
   ]
  },
  {
   "cell_type": "code",
   "execution_count": null,
   "metadata": {},
   "outputs": [],
   "source": [
    "(38 * 10.50) + (10 * (10.50 * 1.5))"
   ]
  },
  {
   "cell_type": "code",
   "execution_count": 80,
   "metadata": {},
   "outputs": [],
   "source": [
    "def calc_full(hours):\n",
    "    o = hours - 38\n",
    "    base_pay = calculate_pay()\n",
    "    overtime = calculate_pay(o,1.5 * 10.5)\n",
    "    return base_pay + overtime"
   ]
  },
  {
   "cell_type": "code",
   "execution_count": 81,
   "metadata": {},
   "outputs": [
    {
     "data": {
      "text/plain": [
       "556.5"
      ]
     },
     "execution_count": 81,
     "metadata": {},
     "output_type": "execute_result"
    }
   ],
   "source": [
    "calc_full(48)"
   ]
  },
  {
   "cell_type": "code",
   "execution_count": 83,
   "metadata": {},
   "outputs": [
    {
     "name": "stdout",
     "output_type": "stream",
     "text": [
      "The Zen of Python, by Tim Peters\n",
      "\n",
      "Beautiful is better than ugly.\n",
      "Explicit is better than implicit.\n",
      "Simple is better than complex.\n",
      "Complex is better than complicated.\n",
      "Flat is better than nested.\n",
      "Sparse is better than dense.\n",
      "Readability counts.\n",
      "Special cases aren't special enough to break the rules.\n",
      "Although practicality beats purity.\n",
      "Errors should never pass silently.\n",
      "Unless explicitly silenced.\n",
      "In the face of ambiguity, refuse the temptation to guess.\n",
      "There should be one-- and preferably only one --obvious way to do it.\n",
      "Although that way may not be obvious at first unless you're Dutch.\n",
      "Now is better than never.\n",
      "Although never is often better than *right* now.\n",
      "If the implementation is hard to explain, it's a bad idea.\n",
      "If the implementation is easy to explain, it may be a good idea.\n",
      "Namespaces are one honking great idea -- let's do more of those!\n"
     ]
    }
   ],
   "source": [
    "import this"
   ]
  },
  {
   "cell_type": "code",
   "execution_count": null,
   "metadata": {},
   "outputs": [],
   "source": [
    "guess = int(input('What is your guess? '))"
   ]
  },
  {
   "cell_type": "code",
   "execution_count": 85,
   "metadata": {},
   "outputs": [
    {
     "name": "stdout",
     "output_type": "stream",
     "text": [
      "What is your guess? 42\n"
     ]
    }
   ],
   "source": [
    "guess = get_guess()"
   ]
  },
  {
   "cell_type": "code",
   "execution_count": 108,
   "metadata": {},
   "outputs": [],
   "source": [
    "def get_guess():\n",
    "    '''\n",
    "    gets player input converts to an int and returns it\n",
    "    '''\n",
    "    guess = input('What is your guess? ')\n",
    "    while not (guess.isdigit() and int(guess) > 0 and int(guess) < 101):\n",
    "        print('The number must be a whole number between 1 and 100')\n",
    "        guess = input('What is your guess? ')\n",
    "    return int(guess)"
   ]
  },
  {
   "cell_type": "code",
   "execution_count": 109,
   "metadata": {},
   "outputs": [
    {
     "name": "stdout",
     "output_type": "stream",
     "text": [
      "What is your guess? sKJHf\n",
      "The number must be a whole number between 1 and 100\n",
      "What is your guess? -56\n",
      "The number must be a whole number between 1 and 100\n",
      "What is your guess? 300\n",
      "The number must be a whole number between 1 and 100\n",
      "What is your guess? 4.6\n",
      "The number must be a whole number between 1 and 100\n",
      "What is your guess? 1\n"
     ]
    },
    {
     "data": {
      "text/plain": [
       "1"
      ]
     },
     "execution_count": 109,
     "metadata": {},
     "output_type": "execute_result"
    }
   ],
   "source": [
    "get_guess()"
   ]
  },
  {
   "cell_type": "code",
   "execution_count": 95,
   "metadata": {},
   "outputs": [],
   "source": [
    "my_string = '66'"
   ]
  },
  {
   "cell_type": "code",
   "execution_count": 96,
   "metadata": {},
   "outputs": [
    {
     "data": {
      "text/plain": [
       "True"
      ]
     },
     "execution_count": 96,
     "metadata": {},
     "output_type": "execute_result"
    }
   ],
   "source": [
    "my_string.isdigit() "
   ]
  },
  {
   "cell_type": "code",
   "execution_count": 104,
   "metadata": {},
   "outputs": [],
   "source": [
    "guess = '77.7'"
   ]
  },
  {
   "cell_type": "code",
   "execution_count": 105,
   "metadata": {},
   "outputs": [
    {
     "name": "stdout",
     "output_type": "stream",
     "text": [
      "its bad\n"
     ]
    }
   ],
   "source": [
    "if guess.isdigit() and int(guess) > 0 and int(guess) < 101:\n",
    "    print('its ok')\n",
    "else:\n",
    "    print('its bad')"
   ]
  },
  {
   "cell_type": "code",
   "execution_count": null,
   "metadata": {},
   "outputs": [],
   "source": []
  },
  {
   "cell_type": "markdown",
   "metadata": {},
   "source": [
    "# problems\n",
    "\n",
    "not a number, not between 1 and 100, not an integer, a negative number\n"
   ]
  },
  {
   "cell_type": "code",
   "execution_count": null,
   "metadata": {},
   "outputs": [],
   "source": [
    "guess = get_guess()"
   ]
  },
  {
   "cell_type": "code",
   "execution_count": null,
   "metadata": {},
   "outputs": [],
   "source": []
  },
  {
   "cell_type": "code",
   "execution_count": 110,
   "metadata": {},
   "outputs": [
    {
     "name": "stdout",
     "output_type": "stream",
     "text": [
      "What is your guess? 50\n",
      "The number is higher than that the number is between 50 and 100\n",
      "What is your guess? 75\n",
      "The number is lower than that the number is between 50 and 75\n",
      "What is your guess? 66\n",
      "The number is higher than that the number is between 66 and 75\n",
      "What is your guess? 70\n",
      "**CONGRATULATIONS!!!**\n"
     ]
    }
   ],
   "source": [
    "from random import randint\n",
    "\n",
    "def get_boundaries(past_guesses, answer):\n",
    "    '''\n",
    "    Take a list of past guesses, and the answer value\n",
    "    sorts them and returns the lower and upper boundary\n",
    "    '''\n",
    "    past_guesses.sort()\n",
    "    idx = past_guesses.index(answer)\n",
    "    lower,upper = past_guesses[idx - 1], past_guesses[idx + 1]\n",
    "    if lower == 0:\n",
    "        lower = 1\n",
    "    if upper == 101:\n",
    "        upper =100\n",
    "    return lower, upper\n",
    "\n",
    "def get_guess():\n",
    "    '''\n",
    "    gets player input converts to an int and returns it\n",
    "    '''\n",
    "    guess = input('What is your guess? ')\n",
    "    while not (guess.isdigit() and int(guess) > 0 and int(guess) < 101):\n",
    "        print('The number must be a whole number between 1 and 100')\n",
    "        guess = input('What is your guess? ')\n",
    "    return int(guess)\n",
    "\n",
    "def give_feedback(answer, guess):\n",
    "    '''\n",
    "    takes the values of answer and guess and returns appropriate string\n",
    "    '''\n",
    "    \n",
    "    if answer > guess:\n",
    "        return \"The number is higher than that\"\n",
    "    else:\n",
    "        return \"The number is lower than that\"\n",
    "    \n",
    "answer = randint(1,100)\n",
    "\n",
    "past_guesses = [0,101, answer]\n",
    "\n",
    "guess = get_guess()\n",
    "\n",
    "past_guesses.append(guess)\n",
    "\n",
    "while answer != guess:\n",
    "    feedback = give_feedback(answer, guess)\n",
    "    lower, upper = get_boundaries(past_guesses,answer)\n",
    "    print(feedback, f'the number is between {lower} and {upper}')\n",
    "    guess = get_guess()\n",
    "    past_guesses.append(guess)\n",
    "\n",
    "print('**CONGRATULATIONS!!!**')\n"
   ]
  },
  {
   "cell_type": "code",
   "execution_count": null,
   "metadata": {},
   "outputs": [],
   "source": []
  }
 ],
 "metadata": {
  "kernelspec": {
   "display_name": "Python 3",
   "language": "python",
   "name": "python3"
  },
  "language_info": {
   "codemirror_mode": {
    "name": "ipython",
    "version": 3
   },
   "file_extension": ".py",
   "mimetype": "text/x-python",
   "name": "python",
   "nbconvert_exporter": "python",
   "pygments_lexer": "ipython3",
   "version": "3.7.3"
  }
 },
 "nbformat": 4,
 "nbformat_minor": 2
}
